{
 "cells": [
  {
   "cell_type": "markdown",
   "id": "901b4f6c",
   "metadata": {},
   "source": [
    "Define where the files are"
   ]
  },
  {
   "cell_type": "code",
   "execution_count": null,
   "id": "7bee9d7b",
   "metadata": {},
   "outputs": [],
   "source": [
    "reactionsFile=\"reactions.csv\"\n",
    "rateLawsFile=\"ratelaws.csv\"\n",
    "parametersFile=\"parameters.csv\"\n",
    "locationOfCSV2Julia=\"csv2model-multiscale.py\"\n",
    "thisModelName=\"toyModel.jl\"\n",
    "maxTimeTC=60"
   ]
  },
  {
   "cell_type": "code",
   "execution_count": null,
   "id": "0ccf7119",
   "metadata": {},
   "outputs": [],
   "source": [
    "import Pkg; Pkg.add(\"DifferentialEquations\")\n",
    "Pkg.add(\"Plots\")\n",
    "Pkg.add(\"CSV\")\n",
    "Pkg.add(\"Distributions\")\n",
    "Pkg.add(\"Random\")\n",
    "Pkg.add(\"DataFrames\")\n",
    "Pkg.add(\"JLD2\")\n",
    "Pkg.add(\"FileIO\")\n",
    "Pkg.add(\"StatsPlots\")"
   ]
  },
  {
   "cell_type": "code",
   "execution_count": null,
   "id": "1f863b16",
   "metadata": {},
   "outputs": [],
   "source": [
    "using DifferentialEquations\n",
    "using Plots \n",
    "using CSV\n",
    "using Distributions\n",
    "using Random\n",
    "using DataFrames\n",
    "using JLD2\n",
    "using FileIO\n",
    "using StatsPlots"
   ]
  },
  {
   "cell_type": "code",
   "execution_count": null,
   "id": "6bcc7013",
   "metadata": {},
   "outputs": [],
   "source": [
    "arguments=[reactionsFile, parametersFile, rateLawsFile,thisModelName]\n",
    "cmd=`python3 $locationOfCSV2Julia $arguments`\n",
    "\n",
    "#lets run csv2julia (requires python to be installed)\n",
    "run(cmd)\n",
    "\n",
    "#     #if we need to fix species we can do it here\n",
    "#     #include(\"variableNames.jl\")\n",
    "#     #indexToFix=findfirst(x->\"L\"==x,syms)\n",
    "#     #fixSpecies(modelFile,modelFile,indexToFix)\n",
    "\n",
    "#pop the outputs in a modelFiles folder\n",
    "include(thisModelName)\n",
    "include(\"variableNames.jl\")"
   ]
  },
  {
   "cell_type": "code",
   "execution_count": null,
   "id": "4c3f8271",
   "metadata": {},
   "outputs": [],
   "source": [
    "y0=[1,0,0]\n",
    "f=ODEFunction(toyModel,syms=Symbol.(syms))\n",
    "prob=ODEProblem(f,y0,(0.0,maxTimeTC))\n",
    "sol=solve(prob, abstol=1e-5,reltol=1e-3, saveat=1.0)"
   ]
  },
  {
   "cell_type": "code",
   "execution_count": null,
   "id": "d575c89e",
   "metadata": {},
   "outputs": [],
   "source": [
    "plot(sol)"
   ]
  },
  {
   "cell_type": "code",
   "execution_count": null,
   "id": "764bbf06",
   "metadata": {},
   "outputs": [],
   "source": []
  }
 ],
 "metadata": {
  "kernelspec": {
   "display_name": "Julia 1.8.5 32 threads 1.8.5",
   "language": "julia",
   "name": "julia-1.8.5-32-threads-1.8"
  },
  "language_info": {
   "file_extension": ".jl",
   "mimetype": "application/julia",
   "name": "julia",
   "version": "1.8.5"
  }
 },
 "nbformat": 4,
 "nbformat_minor": 5
}
